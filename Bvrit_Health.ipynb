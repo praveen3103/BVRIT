{
 "cells": [
  {
   "cell_type": "markdown",
   "metadata": {
    "id": "hXshTgLZc5C3"
   },
   "source": [
    "# Machine Learning Model Implementation for VKP"
   ]
  },
  {
   "cell_type": "markdown",
   "metadata": {
    "id": "-l7vuIGrc9qt"
   },
   "source": [
    "# Importing Modules"
   ]
  },
  {
   "cell_type": "code",
   "execution_count": 1,
   "metadata": {
    "id": "wftC9MNddAkr"
   },
   "outputs": [],
   "source": [
    "# Importing modules\n",
    "import pandas as pd\n",
    "import numpy as np\n",
    "import matplotlib.pyplot as plt"
   ]
  },
  {
   "cell_type": "markdown",
   "metadata": {
    "id": "4X1L-TuMdiY-"
   },
   "source": [
    "# Reading Dataset from Excel Sheet"
   ]
  },
  {
   "cell_type": "code",
   "execution_count": null,
   "metadata": {},
   "outputs": [],
   "source": []
  },
  {
   "cell_type": "code",
   "execution_count": 2,
   "metadata": {
    "colab": {
     "base_uri": "https://localhost:8080/"
    },
    "id": "wOy_cIhydE0O",
    "outputId": "fb1f4c8c-ff27-4d7c-f479-863b8724b238"
   },
   "outputs": [
    {
     "name": "stdout",
     "output_type": "stream",
     "text": [
      "         Vata  Pitta  Kapha  Age Gender  V  K  P\n",
      "0       364.0  336.0  322.0   30      M  0  1  0\n",
      "1       330.0  335.0  338.0   30      M  1  1  1\n",
      "2       399.0  401.0  407.0   30      M  1  0  1\n",
      "3       466.0  468.0  469.0   30      M  0  1  0\n",
      "4       504.0  503.0  507.0   30      M  0  0  0\n",
      "...       ...    ...    ...  ...    ... .. .. ..\n",
      "103031  447.0  490.0  407.0   23      M  1  1  1\n",
      "103032  404.0  447.0  375.0   23      M  1  1  1\n",
      "103033  374.0  422.0  332.0   23      M  1  1  1\n",
      "103034  363.0  425.0  310.0   23      M  0  0  1\n",
      "103035  359.0  440.0  291.0   23      M  0  1  1\n",
      "\n",
      "[103036 rows x 8 columns]\n"
     ]
    }
   ],
   "source": [
    "# Reading Dataset from Excel Sheet\n",
    "dataset=pd.read_csv('main_data.csv')\n",
    "print (dataset)"
   ]
  },
  {
   "cell_type": "markdown",
   "metadata": {
    "id": "zdGUiOGXdln_"
   },
   "source": [
    "# Identifying Independent and Dependent Variables"
   ]
  },
  {
   "cell_type": "code",
   "execution_count": 3,
   "metadata": {
    "colab": {
     "base_uri": "https://localhost:8080/"
    },
    "id": "w-oQIuMQdt7M",
    "outputId": "11044bdf-3ae2-4f59-aa05-db3aeb0085e4"
   },
   "outputs": [
    {
     "name": "stdout",
     "output_type": "stream",
     "text": [
      "[[364.0 336.0 322.0 30 'M']\n",
      " [330.0 335.0 338.0 30 'M']\n",
      " [399.0 401.0 407.0 30 'M']\n",
      " ...\n",
      " [374.0 422.0 332.0 23 'M']\n",
      " [363.0 425.0 310.0 23 'M']\n",
      " [359.0 440.0 291.0 23 'M']]\n",
      "[0 1 1 ... 1 0 0]\n"
     ]
    }
   ],
   "source": [
    "# Identifying Independent Variables and Dependent Variables\n",
    "X=dataset.iloc[:,:-3].values\n",
    "y_v=dataset.iloc[:,-3].values\n",
    "print (X)\n",
    "print (y_v)"
   ]
  },
  {
   "cell_type": "code",
   "execution_count": 4,
   "metadata": {
    "colab": {
     "base_uri": "https://localhost:8080/"
    },
    "id": "0ihS8ytxd0Zr",
    "outputId": "f83581e1-ddf4-4e5e-e6ad-f2d927d55bcb"
   },
   "outputs": [
    {
     "name": "stdout",
     "output_type": "stream",
     "text": [
      "[1 1 0 ... 1 0 1]\n"
     ]
    }
   ],
   "source": [
    "y_k=dataset.iloc[:,-2].values\n",
    "print (y_k)"
   ]
  },
  {
   "cell_type": "code",
   "execution_count": 5,
   "metadata": {
    "colab": {
     "base_uri": "https://localhost:8080/"
    },
    "id": "saccmnTed6g0",
    "outputId": "4db804f9-9416-4fdd-c176-0bc4f48e85b8"
   },
   "outputs": [
    {
     "name": "stdout",
     "output_type": "stream",
     "text": [
      "[0 1 1 ... 1 1 1]\n"
     ]
    }
   ],
   "source": [
    "y_p=dataset.iloc[:,-1].values\n",
    "print (y_p)"
   ]
  },
  {
   "cell_type": "code",
   "execution_count": 6,
   "metadata": {},
   "outputs": [
    {
     "data": {
      "text/html": [
       "<div>\n",
       "<style scoped>\n",
       "    .dataframe tbody tr th:only-of-type {\n",
       "        vertical-align: middle;\n",
       "    }\n",
       "\n",
       "    .dataframe tbody tr th {\n",
       "        vertical-align: top;\n",
       "    }\n",
       "\n",
       "    .dataframe thead th {\n",
       "        text-align: right;\n",
       "    }\n",
       "</style>\n",
       "<table border=\"1\" class=\"dataframe\">\n",
       "  <thead>\n",
       "    <tr style=\"text-align: right;\">\n",
       "      <th></th>\n",
       "      <th>Vata</th>\n",
       "      <th>Pitta</th>\n",
       "      <th>Kapha</th>\n",
       "      <th>Age</th>\n",
       "      <th>V</th>\n",
       "      <th>K</th>\n",
       "      <th>P</th>\n",
       "    </tr>\n",
       "  </thead>\n",
       "  <tbody>\n",
       "    <tr>\n",
       "      <th>count</th>\n",
       "      <td>103024.000000</td>\n",
       "      <td>103024.000000</td>\n",
       "      <td>103024.000000</td>\n",
       "      <td>103036.000000</td>\n",
       "      <td>103036.000000</td>\n",
       "      <td>103036.000000</td>\n",
       "      <td>103036.000000</td>\n",
       "    </tr>\n",
       "    <tr>\n",
       "      <th>mean</th>\n",
       "      <td>519.278751</td>\n",
       "      <td>516.089824</td>\n",
       "      <td>520.338009</td>\n",
       "      <td>26.501106</td>\n",
       "      <td>0.475397</td>\n",
       "      <td>0.475843</td>\n",
       "      <td>0.474232</td>\n",
       "    </tr>\n",
       "    <tr>\n",
       "      <th>std</th>\n",
       "      <td>167.909479</td>\n",
       "      <td>188.598363</td>\n",
       "      <td>166.507807</td>\n",
       "      <td>4.174877</td>\n",
       "      <td>0.499397</td>\n",
       "      <td>0.499419</td>\n",
       "      <td>0.499338</td>\n",
       "    </tr>\n",
       "    <tr>\n",
       "      <th>min</th>\n",
       "      <td>0.000000</td>\n",
       "      <td>0.000000</td>\n",
       "      <td>0.000000</td>\n",
       "      <td>20.000000</td>\n",
       "      <td>0.000000</td>\n",
       "      <td>0.000000</td>\n",
       "      <td>0.000000</td>\n",
       "    </tr>\n",
       "    <tr>\n",
       "      <th>25%</th>\n",
       "      <td>422.000000</td>\n",
       "      <td>417.000000</td>\n",
       "      <td>432.000000</td>\n",
       "      <td>22.000000</td>\n",
       "      <td>0.000000</td>\n",
       "      <td>0.000000</td>\n",
       "      <td>0.000000</td>\n",
       "    </tr>\n",
       "    <tr>\n",
       "      <th>50%</th>\n",
       "      <td>496.000000</td>\n",
       "      <td>496.000000</td>\n",
       "      <td>493.000000</td>\n",
       "      <td>26.000000</td>\n",
       "      <td>0.000000</td>\n",
       "      <td>0.000000</td>\n",
       "      <td>0.000000</td>\n",
       "    </tr>\n",
       "    <tr>\n",
       "      <th>75%</th>\n",
       "      <td>549.000000</td>\n",
       "      <td>537.000000</td>\n",
       "      <td>539.000000</td>\n",
       "      <td>30.000000</td>\n",
       "      <td>1.000000</td>\n",
       "      <td>1.000000</td>\n",
       "      <td>1.000000</td>\n",
       "    </tr>\n",
       "    <tr>\n",
       "      <th>max</th>\n",
       "      <td>980.000000</td>\n",
       "      <td>980.000000</td>\n",
       "      <td>981.000000</td>\n",
       "      <td>36.000000</td>\n",
       "      <td>1.000000</td>\n",
       "      <td>1.000000</td>\n",
       "      <td>1.000000</td>\n",
       "    </tr>\n",
       "  </tbody>\n",
       "</table>\n",
       "</div>"
      ],
      "text/plain": [
       "                Vata          Pitta          Kapha            Age  \\\n",
       "count  103024.000000  103024.000000  103024.000000  103036.000000   \n",
       "mean      519.278751     516.089824     520.338009      26.501106   \n",
       "std       167.909479     188.598363     166.507807       4.174877   \n",
       "min         0.000000       0.000000       0.000000      20.000000   \n",
       "25%       422.000000     417.000000     432.000000      22.000000   \n",
       "50%       496.000000     496.000000     493.000000      26.000000   \n",
       "75%       549.000000     537.000000     539.000000      30.000000   \n",
       "max       980.000000     980.000000     981.000000      36.000000   \n",
       "\n",
       "                   V              K              P  \n",
       "count  103036.000000  103036.000000  103036.000000  \n",
       "mean        0.475397       0.475843       0.474232  \n",
       "std         0.499397       0.499419       0.499338  \n",
       "min         0.000000       0.000000       0.000000  \n",
       "25%         0.000000       0.000000       0.000000  \n",
       "50%         0.000000       0.000000       0.000000  \n",
       "75%         1.000000       1.000000       1.000000  \n",
       "max         1.000000       1.000000       1.000000  "
      ]
     },
     "execution_count": 6,
     "metadata": {},
     "output_type": "execute_result"
    }
   ],
   "source": [
    "dataset.describe()"
   ]
  },
  {
   "cell_type": "code",
   "execution_count": 7,
   "metadata": {},
   "outputs": [
    {
     "data": {
      "text/plain": [
       "Index(['Vata', 'Pitta', 'Kapha', 'Age', 'Gender', 'V', 'K', 'P'], dtype='object')"
      ]
     },
     "execution_count": 7,
     "metadata": {},
     "output_type": "execute_result"
    }
   ],
   "source": [
    "dataset.columns"
   ]
  },
  {
   "cell_type": "code",
   "execution_count": 8,
   "metadata": {},
   "outputs": [
    {
     "data": {
      "text/plain": [
       "array([364., 330., 399., 466., 504., 518., 535., 522., 519., 514., 515.,\n",
       "       513., 508., 512., 509., 510., 507., 503., 506., 511., 517., 520.,\n",
       "       505., 502., 516., 524., 521., 497., 523., 527., 525., 501., 498.,\n",
       "       492., 496., 526., 493., 500., 531., 542., 495., 499., 528., 296.,\n",
       "       308., 340., 369., 394., 401., 404., 407., 453., 628., 814., 882.,\n",
       "       790., 629., 488., 426., 417., 437., 438., 423., 396., 380., 383.,\n",
       "       415., 412., 429., 576., 796., 895., 821., 666., 410., 433., 431.,\n",
       "       414., 397., 392., 402., 416., 483., 707., 883., 886., 753., 587.,\n",
       "       439., 393., 430., 398., 384., 389., 539., 772., 907., 857., 682.,\n",
       "       395., 409., 420., 406., 385., 375., 390., 413., 571., 773., 862.,\n",
       "       614., 457., 391., 387., 400., 725., 870., 818., 657., 418., 455.,\n",
       "       675., 848., 868., 743., 584., 388., 434., 427., 405., 386., 468.,\n",
       "       699., 887., 747., 581., 382., 421., 408., 436., 646., 844., 890.,\n",
       "       774., 611., 458., 447., 440., 419., 403., 777., 606., 463., 548.,\n",
       "       768., 851., 683., 537., 435., 612., 893., 793., 634., 428., 411.,\n",
       "       486., 854., 830., 686., 422., 443., 719., 852., 811., 659., 441.,\n",
       "       424., 570., 767., 864., 797., 633., 432., 670., 850., 858., 546.,\n",
       "       569., 792., 764., 597., 536., 876., 775., 558., 874., 605., 723.,\n",
       "       831., 654., 826., 869., 741., 565., 799., 885., 762., 588., 425.,\n",
       "       815., 769., 598., 450., 911., 644., 681., 878., 872., 718., 594.,\n",
       "       901., 781., 595., 442., 473., 714., 888., 688., 381., 538., 778.,\n",
       "       903., 806., 619., 464., 470., 703., 847., 677., 484., 738., 905.,\n",
       "       861., 691., 379., 479., 742., 685., 451., 692., 897., 891., 638.,\n",
       "       750., 449., 662., 871., 731., 566., 467., 724., 763., 894., 641.,\n",
       "       474., 697., 533., 582., 829., 921., 801., 620., 650., 866., 916.,\n",
       "       626., 755., 910., 632., 485., 746., 849., 640., 715., 896., 860.,\n",
       "       618., 856., 908., 906., 899., 730., 550., 372., 931., 607., 454.,\n",
       "       924., 900., 710., 476., 748., 940., 689., 376., 374., 452., 728.,\n",
       "       945., 932., 740., 552., 377., 613., 892., 967., 827., 532., 808.,\n",
       "       959., 653., 680., 577., 378., 972., 716., 794., 975., 695., 371.,\n",
       "       760., 953., 963., 616., 357., 370., 700., 933., 951., 783., 580.,\n",
       "       366., 664., 927., 965., 803., 583., 676., 923., 962., 780., 567.,\n",
       "       788., 978., 919., 706., 363., 367., 938., 373., 368., 973., 596.,\n",
       "       836., 942., 365., 494., 786., 977., 912., 816., 976., 880., 648.,\n",
       "       722., 956., 734., 530., 824., 673., 361., 608., 353., 800., 586.,\n",
       "       915., 687., 482., 579., 355., 913., 825., 599., 694., 950., 971.,\n",
       "       782., 554., 352., 795., 946., 713., 360., 784., 925., 359., 660.,\n",
       "       460., 639., 833., 603., 726., 563., 362., 456., 758., 735., 625.,\n",
       "       822., 592., 804., 704., 865., 651., 448., 351., 875., 761., 928.,\n",
       "       708., 812., 349., 771., 941., 968., 672., 461., 787., 937., 585.,\n",
       "       909., 955., 947., 873., 446., 358., 678., 934., 578., 807., 589.,\n",
       "       631., 343., 904., 346., 917., 668., 342., 655., 445., 751., 540.,\n",
       "       350., 776., 729., 336., 810., 949., 551., 356., 610., 345., 469.,\n",
       "       957., 733., 791., 557., 459., 935., 840., 348., 674., 979., 944.,\n",
       "       702., 444., 544., 671., 930., 958., 549., 477., 765., 974., 964.,\n",
       "       961., 667., 472., 802., 884., 661., 555., 853., 652., 817., 693.,\n",
       "       823., 572., 805., 770., 859., 658., 480., 732., 701., 845., 609.,\n",
       "       705., 649., 756., 529., 813., 954., 637., 879., 835., 936., 591.,\n",
       "       690., 877., 462., 712., 560., 920., 759., 635., 543., 749., 939.,\n",
       "       490., 475., 602., 889., 481., 757., 855., 574., 711., 960., 559.,\n",
       "       665., 881., 720., 914., 630., 721., 717., 752., 698., 645., 843.,\n",
       "       562., 642., 663., 709., 809., 679., 819., 828., 744., 727., 684.,\n",
       "       789., 785., 647., 159., 669., 834., 863., 867., 842., 839., 643.,\n",
       "       736., 838., 754., 739., 779., 766., 902., 832., 745., 737., 926.,\n",
       "       820., 798., 841., 656., 952., 621., 846., 837., 636., 622., 192.,\n",
       "        50., 263.,  58., 316.,   0., 556.,  77., 155., 120.,  26., 180.,\n",
       "       111., 162., 276., 277., 194.,  61., 257., 249., 171., 237., 943.,\n",
       "       541., 696., 534., 573., 593., 545., 547., 489., 617., 491., 604.,\n",
       "       561., 575., 623., 624., 590., 627., 898., 600., 568., 564., 487.,\n",
       "       266., 615., 478., 601., 970., 553., 239., 229., 246., 289., 310.,\n",
       "       338., 347., 465., 471., 354., 344., 335., 333., 341., 319., 268.,\n",
       "       252., 273., 306., 301., 278., 264., 260., 295., 250., 287., 313.,\n",
       "       318., 293., 269., 256., 259., 303., 261., 286., 311., 253., 288.,\n",
       "       324., 275., 307., 312., 251., 255., 281., 245., 272., 285., 262.,\n",
       "       265., 283., 248., 302., 322., 309., 297., 240., 328., 317., 271.,\n",
       "       305., 315., 292., 320., 247., 282., 258., 274., 294., 254., 291.,\n",
       "       267., 300., 227., 234., 314., 244., 279., 284., 270., 225., 298.,\n",
       "       243., 242., 339., 337., 280., 290., 304., 323., 299., 331., 238.,\n",
       "       332., 326., 321., 327., 325., 231., 236., 232., 233., 219., 223.,\n",
       "       241., 222., 230., 226., 224., 220., 215., 228., 235., 221., 210.,\n",
       "       206., 217., 214., 216., 209., 213., 329., 207., 204., 208., 218.,\n",
       "       205., 200., 195., 196., 182., 197., 201., 199., 202., 186., 193.,\n",
       "       184., 169., 189., 211., 174., 179., 188., 198., 190., 178., 203.,\n",
       "       191., 334., 922., 918., 948., 966., 969., 929.,  nan, 181., 138.,\n",
       "        76.,  28.,  46., 183.,  69.,  37.,  85.,  79.,  99., 149., 157.,\n",
       "       114., 119., 168.,  25., 135.,  34.,  63., 133., 141., 112.,  97.,\n",
       "       187., 124., 152., 148.,  71.,  84., 154.,  90.,  31.,  45., 177.,\n",
       "       160., 137., 100., 145., 176.,  66.,  82., 139.,  48., 122.,  88.,\n",
       "        81., 101., 163., 147., 185., 173., 172., 125., 156.,  59., 127.,\n",
       "       170., 166., 132.,  39., 106., 212., 118., 143., 109., 164., 165.,\n",
       "       134., 136., 108., 140., 121.,  54.,  32., 146., 175.,  73., 128.,\n",
       "        15.,  33., 115., 105., 158.,  64., 123., 153., 131., 103., 113.,\n",
       "        91.,  62.,  78.,  68.,  93., 161.,  94.,  86., 129.,  11.,  57.,\n",
       "        98., 116., 104., 117.,  13.,  95.,  92.,  36.,  87., 980., 102.,\n",
       "        40.,  70., 150.,  21.,   7., 110.])"
      ]
     },
     "execution_count": 8,
     "metadata": {},
     "output_type": "execute_result"
    }
   ],
   "source": [
    "dataset.Vata.unique()"
   ]
  },
  {
   "cell_type": "code",
   "execution_count": 9,
   "metadata": {},
   "outputs": [
    {
     "data": {
      "text/plain": [
       "Vata      103036\n",
       "Pitta     103036\n",
       "Kapha     103036\n",
       "Age       103036\n",
       "Gender    103036\n",
       "V         103036\n",
       "K         103036\n",
       "P         103036\n",
       "dtype: int64"
      ]
     },
     "execution_count": 9,
     "metadata": {},
     "output_type": "execute_result"
    }
   ],
   "source": [
    "dataset.isnull().count()"
   ]
  },
  {
   "cell_type": "markdown",
   "metadata": {
    "id": "noAGuaXweEtH"
   },
   "source": [
    "# Data Pre-Processing - Missing Values"
   ]
  },
  {
   "cell_type": "code",
   "execution_count": 10,
   "metadata": {
    "colab": {
     "base_uri": "https://localhost:8080/"
    },
    "id": "9NTdtBipeIf9",
    "outputId": "ac12153a-9719-4635-c87c-5f0b8623471f"
   },
   "outputs": [
    {
     "name": "stdout",
     "output_type": "stream",
     "text": [
      "[[364.0 336.0 322.0 30.0 'M']\n",
      " [330.0 335.0 338.0 30.0 'M']\n",
      " [399.0 401.0 407.0 30.0 'M']\n",
      " ...\n",
      " [374.0 422.0 332.0 23.0 'M']\n",
      " [363.0 425.0 310.0 23.0 'M']\n",
      " [359.0 440.0 291.0 23.0 'M']]\n"
     ]
    }
   ],
   "source": [
    "# Taking care of missing data\n",
    "from sklearn.impute import SimpleImputer\n",
    "imputer = SimpleImputer(missing_values=np.nan, strategy='mean')\n",
    "imputer.fit(X[:, :4])\n",
    "X[:, :4] = imputer.transform(X[:, :4])\n",
    "print(X)"
   ]
  },
  {
   "cell_type": "markdown",
   "metadata": {
    "id": "JhPjoQcAeRbM"
   },
   "source": [
    "#Data Pre-Processing - Categorical Data"
   ]
  },
  {
   "cell_type": "code",
   "execution_count": 11,
   "metadata": {
    "colab": {
     "base_uri": "https://localhost:8080/"
    },
    "id": "ntBpJqOfeUmw",
    "outputId": "376a2903-f6c1-406c-a744-bf96dd6b00b2"
   },
   "outputs": [
    {
     "name": "stdout",
     "output_type": "stream",
     "text": [
      "[[0.0 1.0 364.0 336.0 322.0 30.0]\n",
      " [0.0 1.0 330.0 335.0 338.0 30.0]\n",
      " [0.0 1.0 399.0 401.0 407.0 30.0]\n",
      " ...\n",
      " [0.0 1.0 374.0 422.0 332.0 23.0]\n",
      " [0.0 1.0 363.0 425.0 310.0 23.0]\n",
      " [0.0 1.0 359.0 440.0 291.0 23.0]]\n"
     ]
    }
   ],
   "source": [
    "# Non-Numeric Data has to be encoded\n",
    "from sklearn.compose import ColumnTransformer\n",
    "from sklearn.preprocessing import OneHotEncoder\n",
    "ct = ColumnTransformer(transformers=[('encoder', OneHotEncoder(), [4])], remainder='passthrough')\n",
    "X = np.array(ct.fit_transform(X))\n",
    "print(X)"
   ]
  },
  {
   "cell_type": "markdown",
   "metadata": {
    "id": "PE8lcsQmeY5B"
   },
   "source": [
    "# Data Pre-Processing - Training and Testing Data Split"
   ]
  },
  {
   "cell_type": "code",
   "execution_count": 12,
   "metadata": {},
   "outputs": [
    {
     "data": {
      "text/html": [
       "<style>#sk-container-id-1 {color: black;background-color: white;}#sk-container-id-1 pre{padding: 0;}#sk-container-id-1 div.sk-toggleable {background-color: white;}#sk-container-id-1 label.sk-toggleable__label {cursor: pointer;display: block;width: 100%;margin-bottom: 0;padding: 0.3em;box-sizing: border-box;text-align: center;}#sk-container-id-1 label.sk-toggleable__label-arrow:before {content: \"▸\";float: left;margin-right: 0.25em;color: #696969;}#sk-container-id-1 label.sk-toggleable__label-arrow:hover:before {color: black;}#sk-container-id-1 div.sk-estimator:hover label.sk-toggleable__label-arrow:before {color: black;}#sk-container-id-1 div.sk-toggleable__content {max-height: 0;max-width: 0;overflow: hidden;text-align: left;background-color: #f0f8ff;}#sk-container-id-1 div.sk-toggleable__content pre {margin: 0.2em;color: black;border-radius: 0.25em;background-color: #f0f8ff;}#sk-container-id-1 input.sk-toggleable__control:checked~div.sk-toggleable__content {max-height: 200px;max-width: 100%;overflow: auto;}#sk-container-id-1 input.sk-toggleable__control:checked~label.sk-toggleable__label-arrow:before {content: \"▾\";}#sk-container-id-1 div.sk-estimator input.sk-toggleable__control:checked~label.sk-toggleable__label {background-color: #d4ebff;}#sk-container-id-1 div.sk-label input.sk-toggleable__control:checked~label.sk-toggleable__label {background-color: #d4ebff;}#sk-container-id-1 input.sk-hidden--visually {border: 0;clip: rect(1px 1px 1px 1px);clip: rect(1px, 1px, 1px, 1px);height: 1px;margin: -1px;overflow: hidden;padding: 0;position: absolute;width: 1px;}#sk-container-id-1 div.sk-estimator {font-family: monospace;background-color: #f0f8ff;border: 1px dotted black;border-radius: 0.25em;box-sizing: border-box;margin-bottom: 0.5em;}#sk-container-id-1 div.sk-estimator:hover {background-color: #d4ebff;}#sk-container-id-1 div.sk-parallel-item::after {content: \"\";width: 100%;border-bottom: 1px solid gray;flex-grow: 1;}#sk-container-id-1 div.sk-label:hover label.sk-toggleable__label {background-color: #d4ebff;}#sk-container-id-1 div.sk-serial::before {content: \"\";position: absolute;border-left: 1px solid gray;box-sizing: border-box;top: 0;bottom: 0;left: 50%;z-index: 0;}#sk-container-id-1 div.sk-serial {display: flex;flex-direction: column;align-items: center;background-color: white;padding-right: 0.2em;padding-left: 0.2em;position: relative;}#sk-container-id-1 div.sk-item {position: relative;z-index: 1;}#sk-container-id-1 div.sk-parallel {display: flex;align-items: stretch;justify-content: center;background-color: white;position: relative;}#sk-container-id-1 div.sk-item::before, #sk-container-id-1 div.sk-parallel-item::before {content: \"\";position: absolute;border-left: 1px solid gray;box-sizing: border-box;top: 0;bottom: 0;left: 50%;z-index: -1;}#sk-container-id-1 div.sk-parallel-item {display: flex;flex-direction: column;z-index: 1;position: relative;background-color: white;}#sk-container-id-1 div.sk-parallel-item:first-child::after {align-self: flex-end;width: 50%;}#sk-container-id-1 div.sk-parallel-item:last-child::after {align-self: flex-start;width: 50%;}#sk-container-id-1 div.sk-parallel-item:only-child::after {width: 0;}#sk-container-id-1 div.sk-dashed-wrapped {border: 1px dashed gray;margin: 0 0.4em 0.5em 0.4em;box-sizing: border-box;padding-bottom: 0.4em;background-color: white;}#sk-container-id-1 div.sk-label label {font-family: monospace;font-weight: bold;display: inline-block;line-height: 1.2em;}#sk-container-id-1 div.sk-label-container {text-align: center;}#sk-container-id-1 div.sk-container {/* jupyter's `normalize.less` sets `[hidden] { display: none; }` but bootstrap.min.css set `[hidden] { display: none !important; }` so we also need the `!important` here to be able to override the default hidden behavior on the sphinx rendered scikit-learn.org. See: https://github.com/scikit-learn/scikit-learn/issues/21755 */display: inline-block !important;position: relative;}#sk-container-id-1 div.sk-text-repr-fallback {display: none;}</style><div id=\"sk-container-id-1\" class=\"sk-top-container\"><div class=\"sk-text-repr-fallback\"><pre>ColumnTransformer(remainder=&#x27;passthrough&#x27;,\n",
       "                  transformers=[(&#x27;encoder&#x27;, OneHotEncoder(), [4])])</pre><b>In a Jupyter environment, please rerun this cell to show the HTML representation or trust the notebook. <br />On GitHub, the HTML representation is unable to render, please try loading this page with nbviewer.org.</b></div><div class=\"sk-container\" hidden><div class=\"sk-item sk-dashed-wrapped\"><div class=\"sk-label-container\"><div class=\"sk-label sk-toggleable\"><input class=\"sk-toggleable__control sk-hidden--visually\" id=\"sk-estimator-id-1\" type=\"checkbox\" ><label for=\"sk-estimator-id-1\" class=\"sk-toggleable__label sk-toggleable__label-arrow\">ColumnTransformer</label><div class=\"sk-toggleable__content\"><pre>ColumnTransformer(remainder=&#x27;passthrough&#x27;,\n",
       "                  transformers=[(&#x27;encoder&#x27;, OneHotEncoder(), [4])])</pre></div></div></div><div class=\"sk-parallel\"><div class=\"sk-parallel-item\"><div class=\"sk-item\"><div class=\"sk-label-container\"><div class=\"sk-label sk-toggleable\"><input class=\"sk-toggleable__control sk-hidden--visually\" id=\"sk-estimator-id-2\" type=\"checkbox\" ><label for=\"sk-estimator-id-2\" class=\"sk-toggleable__label sk-toggleable__label-arrow\">encoder</label><div class=\"sk-toggleable__content\"><pre>[4]</pre></div></div></div><div class=\"sk-serial\"><div class=\"sk-item\"><div class=\"sk-estimator sk-toggleable\"><input class=\"sk-toggleable__control sk-hidden--visually\" id=\"sk-estimator-id-3\" type=\"checkbox\" ><label for=\"sk-estimator-id-3\" class=\"sk-toggleable__label sk-toggleable__label-arrow\">OneHotEncoder</label><div class=\"sk-toggleable__content\"><pre>OneHotEncoder()</pre></div></div></div></div></div></div><div class=\"sk-parallel-item\"><div class=\"sk-item\"><div class=\"sk-label-container\"><div class=\"sk-label sk-toggleable\"><input class=\"sk-toggleable__control sk-hidden--visually\" id=\"sk-estimator-id-4\" type=\"checkbox\" ><label for=\"sk-estimator-id-4\" class=\"sk-toggleable__label sk-toggleable__label-arrow\">remainder</label><div class=\"sk-toggleable__content\"><pre>[0, 1, 2, 3]</pre></div></div></div><div class=\"sk-serial\"><div class=\"sk-item\"><div class=\"sk-estimator sk-toggleable\"><input class=\"sk-toggleable__control sk-hidden--visually\" id=\"sk-estimator-id-5\" type=\"checkbox\" ><label for=\"sk-estimator-id-5\" class=\"sk-toggleable__label sk-toggleable__label-arrow\">passthrough</label><div class=\"sk-toggleable__content\"><pre>passthrough</pre></div></div></div></div></div></div></div></div></div></div>"
      ],
      "text/plain": [
       "ColumnTransformer(remainder='passthrough',\n",
       "                  transformers=[('encoder', OneHotEncoder(), [4])])"
      ]
     },
     "execution_count": 12,
     "metadata": {},
     "output_type": "execute_result"
    }
   ],
   "source": [
    "ct"
   ]
  },
  {
   "cell_type": "code",
   "execution_count": 13,
   "metadata": {},
   "outputs": [
    {
     "data": {
      "text/plain": [
       "Index(['Vata', 'Pitta', 'Kapha', 'Age', 'Gender', 'V', 'K', 'P'], dtype='object')"
      ]
     },
     "execution_count": 13,
     "metadata": {},
     "output_type": "execute_result"
    }
   ],
   "source": [
    "dataset.columns"
   ]
  },
  {
   "cell_type": "code",
   "execution_count": 14,
   "metadata": {
    "colab": {
     "base_uri": "https://localhost:8080/"
    },
    "id": "DbzAxEtIecTf",
    "outputId": "c709ecb6-101a-4209-ebeb-37313ed84919"
   },
   "outputs": [
    {
     "name": "stdout",
     "output_type": "stream",
     "text": [
      "[[0.0 1.0 733.0 478.0 424.0 28.0]\n",
      " [0.0 1.0 977.0 978.0 682.0 34.0]\n",
      " [0.0 1.0 506.0 505.0 489.0 24.0]\n",
      " ...\n",
      " [0.0 1.0 868.0 836.0 676.0 32.0]\n",
      " [0.0 1.0 438.0 435.0 426.0 30.0]\n",
      " [0.0 1.0 789.0 623.0 773.0 22.0]]\n",
      "[[1.0 0.0 417.0 458.0 476.0 28.0]\n",
      " [1.0 0.0 473.0 489.0 477.0 26.0]\n",
      " [0.0 1.0 503.0 515.0 515.0 24.0]\n",
      " ...\n",
      " [0.0 1.0 497.0 420.0 503.0 22.0]\n",
      " [0.0 1.0 584.0 806.0 793.0 30.0]\n",
      " [1.0 0.0 559.0 533.0 486.0 28.0]]\n",
      "[0 1 1 ... 1 0 0]\n",
      "[0 0 1 ... 1 0 0]\n"
     ]
    }
   ],
   "source": [
    "# Splitting the dataset into the Training set and Test set\n",
    "from sklearn.model_selection import train_test_split\n",
    "Xv_train, Xv_test, yv_train, yv_test = train_test_split(X, y_v, test_size = 0.3, random_state = 1)\n",
    "Xk_train, Xk_test, yk_train, yk_test = train_test_split(X, y_k, test_size = 0.3, random_state = 1)\n",
    "Xp_train, Xp_test, yp_train, yp_test = train_test_split(X, y_p, test_size = 0.3, random_state = 1)\n",
    "print(Xv_train)\n",
    "print(Xv_test)\n",
    "print(yv_train)\n",
    "print(yv_test)\n"
   ]
  },
  {
   "cell_type": "code",
   "execution_count": 15,
   "metadata": {},
   "outputs": [
    {
     "ename": "AttributeError",
     "evalue": "'numpy.ndarray' object has no attribute 'columns'",
     "output_type": "error",
     "traceback": [
      "\u001b[1;31m---------------------------------------------------------------------------\u001b[0m",
      "\u001b[1;31mAttributeError\u001b[0m                            Traceback (most recent call last)",
      "Input \u001b[1;32mIn [15]\u001b[0m, in \u001b[0;36m<module>\u001b[1;34m\u001b[0m\n\u001b[1;32m----> 1\u001b[0m \u001b[43mXv_test\u001b[49m\u001b[38;5;241;43m.\u001b[39;49m\u001b[43mcolumns\u001b[49m\n",
      "\u001b[1;31mAttributeError\u001b[0m: 'numpy.ndarray' object has no attribute 'columns'"
     ]
    }
   ],
   "source": [
    "Xv_test.columns"
   ]
  },
  {
   "cell_type": "markdown",
   "metadata": {
    "id": "ULcfD_AxejYN"
   },
   "source": [
    "# Building Logistic Regression Model"
   ]
  },
  {
   "cell_type": "code",
   "execution_count": 16,
   "metadata": {
    "colab": {
     "base_uri": "https://localhost:8080/"
    },
    "id": "pTQ6oVnMeo4X",
    "outputId": "70dac3d6-8933-46d8-80f7-d2b9904796fe"
   },
   "outputs": [
    {
     "data": {
      "text/html": [
       "<style>#sk-container-id-2 {color: black;background-color: white;}#sk-container-id-2 pre{padding: 0;}#sk-container-id-2 div.sk-toggleable {background-color: white;}#sk-container-id-2 label.sk-toggleable__label {cursor: pointer;display: block;width: 100%;margin-bottom: 0;padding: 0.3em;box-sizing: border-box;text-align: center;}#sk-container-id-2 label.sk-toggleable__label-arrow:before {content: \"▸\";float: left;margin-right: 0.25em;color: #696969;}#sk-container-id-2 label.sk-toggleable__label-arrow:hover:before {color: black;}#sk-container-id-2 div.sk-estimator:hover label.sk-toggleable__label-arrow:before {color: black;}#sk-container-id-2 div.sk-toggleable__content {max-height: 0;max-width: 0;overflow: hidden;text-align: left;background-color: #f0f8ff;}#sk-container-id-2 div.sk-toggleable__content pre {margin: 0.2em;color: black;border-radius: 0.25em;background-color: #f0f8ff;}#sk-container-id-2 input.sk-toggleable__control:checked~div.sk-toggleable__content {max-height: 200px;max-width: 100%;overflow: auto;}#sk-container-id-2 input.sk-toggleable__control:checked~label.sk-toggleable__label-arrow:before {content: \"▾\";}#sk-container-id-2 div.sk-estimator input.sk-toggleable__control:checked~label.sk-toggleable__label {background-color: #d4ebff;}#sk-container-id-2 div.sk-label input.sk-toggleable__control:checked~label.sk-toggleable__label {background-color: #d4ebff;}#sk-container-id-2 input.sk-hidden--visually {border: 0;clip: rect(1px 1px 1px 1px);clip: rect(1px, 1px, 1px, 1px);height: 1px;margin: -1px;overflow: hidden;padding: 0;position: absolute;width: 1px;}#sk-container-id-2 div.sk-estimator {font-family: monospace;background-color: #f0f8ff;border: 1px dotted black;border-radius: 0.25em;box-sizing: border-box;margin-bottom: 0.5em;}#sk-container-id-2 div.sk-estimator:hover {background-color: #d4ebff;}#sk-container-id-2 div.sk-parallel-item::after {content: \"\";width: 100%;border-bottom: 1px solid gray;flex-grow: 1;}#sk-container-id-2 div.sk-label:hover label.sk-toggleable__label {background-color: #d4ebff;}#sk-container-id-2 div.sk-serial::before {content: \"\";position: absolute;border-left: 1px solid gray;box-sizing: border-box;top: 0;bottom: 0;left: 50%;z-index: 0;}#sk-container-id-2 div.sk-serial {display: flex;flex-direction: column;align-items: center;background-color: white;padding-right: 0.2em;padding-left: 0.2em;position: relative;}#sk-container-id-2 div.sk-item {position: relative;z-index: 1;}#sk-container-id-2 div.sk-parallel {display: flex;align-items: stretch;justify-content: center;background-color: white;position: relative;}#sk-container-id-2 div.sk-item::before, #sk-container-id-2 div.sk-parallel-item::before {content: \"\";position: absolute;border-left: 1px solid gray;box-sizing: border-box;top: 0;bottom: 0;left: 50%;z-index: -1;}#sk-container-id-2 div.sk-parallel-item {display: flex;flex-direction: column;z-index: 1;position: relative;background-color: white;}#sk-container-id-2 div.sk-parallel-item:first-child::after {align-self: flex-end;width: 50%;}#sk-container-id-2 div.sk-parallel-item:last-child::after {align-self: flex-start;width: 50%;}#sk-container-id-2 div.sk-parallel-item:only-child::after {width: 0;}#sk-container-id-2 div.sk-dashed-wrapped {border: 1px dashed gray;margin: 0 0.4em 0.5em 0.4em;box-sizing: border-box;padding-bottom: 0.4em;background-color: white;}#sk-container-id-2 div.sk-label label {font-family: monospace;font-weight: bold;display: inline-block;line-height: 1.2em;}#sk-container-id-2 div.sk-label-container {text-align: center;}#sk-container-id-2 div.sk-container {/* jupyter's `normalize.less` sets `[hidden] { display: none; }` but bootstrap.min.css set `[hidden] { display: none !important; }` so we also need the `!important` here to be able to override the default hidden behavior on the sphinx rendered scikit-learn.org. See: https://github.com/scikit-learn/scikit-learn/issues/21755 */display: inline-block !important;position: relative;}#sk-container-id-2 div.sk-text-repr-fallback {display: none;}</style><div id=\"sk-container-id-2\" class=\"sk-top-container\"><div class=\"sk-text-repr-fallback\"><pre>LogisticRegression(random_state=0)</pre><b>In a Jupyter environment, please rerun this cell to show the HTML representation or trust the notebook. <br />On GitHub, the HTML representation is unable to render, please try loading this page with nbviewer.org.</b></div><div class=\"sk-container\" hidden><div class=\"sk-item\"><div class=\"sk-estimator sk-toggleable\"><input class=\"sk-toggleable__control sk-hidden--visually\" id=\"sk-estimator-id-6\" type=\"checkbox\" checked><label for=\"sk-estimator-id-6\" class=\"sk-toggleable__label sk-toggleable__label-arrow\">LogisticRegression</label><div class=\"sk-toggleable__content\"><pre>LogisticRegression(random_state=0)</pre></div></div></div></div></div>"
      ],
      "text/plain": [
       "LogisticRegression(random_state=0)"
      ]
     },
     "execution_count": 16,
     "metadata": {},
     "output_type": "execute_result"
    }
   ],
   "source": [
    "# Training the Logistic Regression model on the Training set\n",
    "from sklearn.linear_model import LogisticRegression\n",
    "classifier_v = LogisticRegression(random_state = 0)\n",
    "classifier_v.fit(Xv_train, yv_train)\n",
    "classifier_k = LogisticRegression(random_state = 0)\n",
    "classifier_k.fit(Xk_train, yk_train)\n",
    "classifier_p = LogisticRegression(random_state = 0)\n",
    "classifier_p.fit(Xp_train, yp_train)"
   ]
  },
  {
   "cell_type": "markdown",
   "metadata": {
    "id": "MJrCX_7eeuu3"
   },
   "source": [
    "# Prediction of Model"
   ]
  },
  {
   "cell_type": "code",
   "execution_count": 17,
   "metadata": {
    "colab": {
     "base_uri": "https://localhost:8080/"
    },
    "id": "H0WUWi0veyRh",
    "outputId": "638d95c5-8c79-4c7b-cd41-a281cac233f0"
   },
   "outputs": [
    {
     "name": "stdout",
     "output_type": "stream",
     "text": [
      "[0 0 0 ... 0 0 0]\n",
      "[0 0 0 ... 0 0 0]\n",
      "[0 0 0 ... 0 0 0]\n"
     ]
    }
   ],
   "source": [
    "yv_pred = classifier_v.predict(Xv_test)\n",
    "print (yv_pred)\n",
    "yk_pred = classifier_k.predict(Xk_test)\n",
    "print (yk_pred)\n",
    "yp_pred = classifier_p.predict(Xp_test)\n",
    "print (yp_pred)"
   ]
  },
  {
   "cell_type": "markdown",
   "metadata": {
    "id": "kFrji6Bsh49F"
   },
   "source": [
    "# Performance Statstics"
   ]
  },
  {
   "cell_type": "code",
   "execution_count": 18,
   "metadata": {
    "colab": {
     "base_uri": "https://localhost:8080/"
    },
    "id": "spDMi2Cph7jW",
    "outputId": "cdc12b52-b86f-46ed-b050-4000dd5da6b0"
   },
   "outputs": [
    {
     "name": "stdout",
     "output_type": "stream",
     "text": [
      "[[16049    59]\n",
      " [14713    90]]\n",
      "[[15276   913]\n",
      " [13814   908]]\n",
      "[[16164    93]\n",
      " [14524   130]]\n"
     ]
    },
    {
     "data": {
      "text/plain": [
       "0.527126265730646"
      ]
     },
     "execution_count": 18,
     "metadata": {},
     "output_type": "execute_result"
    }
   ],
   "source": [
    "# Making the Confusion Matrix\n",
    "from sklearn.metrics import confusion_matrix, accuracy_score, classification_report\n",
    "\n",
    "vcm = confusion_matrix(yv_test, yv_pred)\n",
    "print(vcm)\n",
    "accuracy_score(yv_test, yv_pred)\n",
    "\n",
    "kcm = confusion_matrix(yk_test, yk_pred)\n",
    "print(kcm)\n",
    "accuracy_score(yk_test, yk_pred)\n",
    "\n",
    "pcm = confusion_matrix(yp_test, yp_pred)\n",
    "print(pcm)\n",
    "accuracy_score(yp_test, yp_pred)"
   ]
  },
  {
   "cell_type": "markdown",
   "metadata": {
    "id": "N_nZ0W4OjWLD"
   },
   "source": [
    "# Vata - Performance "
   ]
  },
  {
   "cell_type": "code",
   "execution_count": 19,
   "metadata": {
    "colab": {
     "base_uri": "https://localhost:8080/",
     "height": 339
    },
    "id": "XgZ98Bd2asmH",
    "outputId": "322d0421-32e6-49ee-dcb2-ad9e29d07009"
   },
   "outputs": [
    {
     "data": {
      "text/plain": [
       "Text(0.5, 257.44, 'Predicted label')"
      ]
     },
     "execution_count": 19,
     "metadata": {},
     "output_type": "execute_result"
    },
    {
     "data": {
      "image/png": "[encoded data removed]",
      "text/plain": [
       "<Figure size 432x288 with 2 Axes>"
      ]
     },
     "metadata": {
      "needs_background": "light"
     },
     "output_type": "display_data"
    }
   ],
   "source": [
    "import numpy as np\n",
    "import matplotlib.pyplot as plt\n",
    "import seaborn as sns\n",
    "\n",
    "class_names=[0,1] # 0 - Vatha is in Control, 1 - Vatha is higher\n",
    "fig, ax = plt.subplots()\n",
    "tick_marks = np.arange(len(class_names))\n",
    "plt.xticks(tick_marks, class_names)\n",
    "plt.yticks(tick_marks, class_names)\n",
    "# create heatmap\n",
    "sns.heatmap(pd.DataFrame(vcm), annot=True, cmap=\"YlGnBu\" ,fmt='g')\n",
    "ax.xaxis.set_label_position(\"top\")\n",
    "plt.tight_layout()\n",
    "plt.title('Confusion matrix', y=1.1)\n",
    "plt.ylabel('Actual label')\n",
    "plt.xlabel('Predicted label')"
   ]
  },
  {
   "cell_type": "code",
   "execution_count": 20,
   "metadata": {
    "colab": {
     "base_uri": "https://localhost:8080/"
    },
    "id": "OqyRPaLIb1D6",
    "outputId": "f911aa84-cee6-4d44-ca1c-0b44b56ebadd"
   },
   "outputs": [
    {
     "name": "stdout",
     "output_type": "stream",
     "text": [
      "Accuracy: 0.5221118695609978\n",
      "Precision: 0.6040268456375839\n",
      "Recall: 0.006079848679321759\n"
     ]
    }
   ],
   "source": [
    "from sklearn import metrics\n",
    "print(\"Accuracy:\",metrics.accuracy_score(yv_test, yv_pred))\n",
    "print(\"Precision:\",metrics.precision_score(yv_test, yv_pred))\n",
    "print(\"Recall:\",metrics.recall_score(yv_test, yv_pred))"
   ]
  },
  {
   "cell_type": "code",
   "execution_count": 21,
   "metadata": {
    "colab": {
     "base_uri": "https://localhost:8080/",
     "height": 265
    },
    "id": "GILUrM_TcD62",
    "outputId": "6ab07410-c222-4da4-dfe6-e1b3ec8aab9a"
   },
   "outputs": [
    {
     "data": {
      "image/png": "[encoded data removed]",
      "text/plain": [
       "<Figure size 432x288 with 1 Axes>"
      ]
     },
     "metadata": {
      "needs_background": "light"
     },
     "output_type": "display_data"
    }
   ],
   "source": [
    "yv_pred_proba = classifier_v.predict_proba(Xv_test)[::,1]\n",
    "fpr, tpr, _ = metrics.roc_curve(yv_test,  yv_pred_proba)\n",
    "auc = metrics.roc_auc_score(yv_test, yv_pred_proba)\n",
    "plt.plot(fpr,tpr,label=\"data 1, auc=\"+str(auc))\n",
    "plt.legend(loc=4)\n",
    "plt.show()"
   ]
  },
  {
   "cell_type": "markdown",
   "metadata": {
    "id": "X9zhdfLcjcYO"
   },
   "source": [
    "# Kapha - Performance\n"
   ]
  },
  {
   "cell_type": "code",
   "execution_count": 22,
   "metadata": {
    "colab": {
     "base_uri": "https://localhost:8080/",
     "height": 342
    },
    "id": "Gl3ZoRV_jgh2",
    "outputId": "797cccd9-3c1e-4fdd-e64e-451c89e3baf8"
   },
   "outputs": [
    {
     "data": {
      "text/plain": [
       "Text(0.5, 257.44, 'Predicted label')"
      ]
     },
     "execution_count": 22,
     "metadata": {},
     "output_type": "execute_result"
    },
    {
     "data": {
      "image/png": "[encoded data removed]",
      "text/plain": [
       "<Figure size 432x288 with 2 Axes>"
      ]
     },
     "metadata": {
      "needs_background": "light"
     },
     "output_type": "display_data"
    }
   ],
   "source": [
    "import numpy as np\n",
    "import matplotlib.pyplot as plt\n",
    "import seaborn as sns\n",
    "\n",
    "class_names=[0,1] # 0 - Kapha is in Control, 1 - Kapha is higher\n",
    "fig, ax = plt.subplots()\n",
    "tick_marks = np.arange(len(class_names))\n",
    "plt.xticks(tick_marks, class_names)\n",
    "plt.yticks(tick_marks, class_names)\n",
    "# create heatmap\n",
    "sns.heatmap(pd.DataFrame(kcm), annot=True, cmap=\"YlGnBu\" ,fmt='g')\n",
    "ax.xaxis.set_label_position(\"top\")\n",
    "plt.tight_layout()\n",
    "plt.title('Confusion matrix', y=1.1)\n",
    "plt.ylabel('Actual label')\n",
    "plt.xlabel('Predicted label')"
   ]
  },
  {
   "cell_type": "code",
   "execution_count": 23,
   "metadata": {
    "colab": {
     "base_uri": "https://localhost:8080/"
    },
    "id": "y1vpEc66juun",
    "outputId": "8cb47ada-2f15-4448-dcad-ddc0003abe1b"
   },
   "outputs": [
    {
     "name": "stdout",
     "output_type": "stream",
     "text": [
      "Accuracy: 0.5235676619973473\n",
      "Precision: 0.4986271279516749\n",
      "Recall: 0.0616764026626817\n"
     ]
    }
   ],
   "source": [
    "from sklearn import metrics\n",
    "print(\"Accuracy:\",metrics.accuracy_score(yk_test, yk_pred))\n",
    "print(\"Precision:\",metrics.precision_score(yk_test, yk_pred))\n",
    "print(\"Recall:\",metrics.recall_score(yk_test, yk_pred))"
   ]
  },
  {
   "cell_type": "code",
   "execution_count": 24,
   "metadata": {
    "colab": {
     "base_uri": "https://localhost:8080/",
     "height": 265
    },
    "id": "uFbPuVOJj2-S",
    "outputId": "16f17645-419a-4b0c-d0f5-07b3b538f5c7"
   },
   "outputs": [
    {
     "data": {
      "image/png": "[encoded data removed]",
      "text/plain": [
       "<Figure size 432x288 with 1 Axes>"
      ]
     },
     "metadata": {
      "needs_background": "light"
     },
     "output_type": "display_data"
    }
   ],
   "source": [
    "yk_pred_proba = classifier_k.predict_proba(Xk_test)[::,1]\n",
    "fpr, tpr, _ = metrics.roc_curve(yk_test,  yk_pred_proba)\n",
    "auc = metrics.roc_auc_score(yk_test, yk_pred_proba)\n",
    "plt.plot(fpr,tpr,label=\"data 1, auc=\"+str(auc))\n",
    "plt.legend(loc=4)\n",
    "plt.show()"
   ]
  },
  {
   "cell_type": "markdown",
   "metadata": {
    "id": "mps_NBeRkBdb"
   },
   "source": [
    "# Pitta - Performance"
   ]
  },
  {
   "cell_type": "code",
   "execution_count": 25,
   "metadata": {
    "colab": {
     "base_uri": "https://localhost:8080/",
     "height": 341
    },
    "id": "CAojZubZkD7i",
    "outputId": "3ff7ecb9-eb39-4cfd-8745-a5cadedb6ac1"
   },
   "outputs": [
    {
     "data": {
      "text/plain": [
       "Text(0.5, 257.44, 'Predicted label')"
      ]
     },
     "execution_count": 25,
     "metadata": {},
     "output_type": "execute_result"
    },
    {
     "data": {
      "image/png": "[encoded data removed]",
      "text/plain": [
       "<Figure size 432x288 with 2 Axes>"
      ]
     },
     "metadata": {
      "needs_background": "light"
     },
     "output_type": "display_data"
    }
   ],
   "source": [
    "import numpy as np\n",
    "import matplotlib.pyplot as plt\n",
    "import seaborn as sns\n",
    "\n",
    "class_names=[0,1] # 0 - Pitta is in Control, 1 - Pitta is higher\n",
    "fig, ax = plt.subplots()\n",
    "tick_marks = np.arange(len(class_names))\n",
    "plt.xticks(tick_marks, class_names)\n",
    "plt.yticks(tick_marks, class_names)\n",
    "# create heatmap\n",
    "sns.heatmap(pd.DataFrame(pcm), annot=True, cmap=\"YlGnBu\" ,fmt='g')\n",
    "ax.xaxis.set_label_position(\"top\")\n",
    "plt.tight_layout()\n",
    "plt.title('Confusion matrix', y=1.1)\n",
    "plt.ylabel('Actual label')\n",
    "plt.xlabel('Predicted label')"
   ]
  },
  {
   "cell_type": "code",
   "execution_count": 26,
   "metadata": {
    "colab": {
     "base_uri": "https://localhost:8080/"
    },
    "id": "CNj6RBj6kbBz",
    "outputId": "f9d8799c-4cb4-4256-e292-21e061fd9f58"
   },
   "outputs": [
    {
     "name": "stdout",
     "output_type": "stream",
     "text": [
      "Accuracy: 0.527126265730646\n",
      "Precision: 0.5829596412556054\n",
      "Recall: 0.008871297939129249\n"
     ]
    }
   ],
   "source": [
    "from sklearn import metrics\n",
    "print(\"Accuracy:\",metrics.accuracy_score(yp_test, yp_pred))\n",
    "print(\"Precision:\",metrics.precision_score(yp_test, yp_pred))\n",
    "print(\"Recall:\",metrics.recall_score(yp_test, yp_pred))"
   ]
  },
  {
   "cell_type": "code",
   "execution_count": 27,
   "metadata": {
    "colab": {
     "base_uri": "https://localhost:8080/",
     "height": 265
    },
    "id": "TxaQImF4kjIh",
    "outputId": "98067a9b-157c-4be4-bc33-b91f45b1c0d5"
   },
   "outputs": [
    {
     "data": {
      "image/png": "[encoded data removed]",
      "text/plain": [
       "<Figure size 432x288 with 1 Axes>"
      ]
     },
     "metadata": {
      "needs_background": "light"
     },
     "output_type": "display_data"
    }
   ],
   "source": [
    "yp_pred_proba = classifier_p.predict_proba(Xp_test)[::,1]\n",
    "fpr, tpr, _ = metrics.roc_curve(yp_test,  yp_pred_proba)\n",
    "auc = metrics.roc_auc_score(yp_test, yp_pred_proba)\n",
    "plt.plot(fpr,tpr,label=\"data 1, auc=\"+str(auc))\n",
    "plt.legend(loc=4)\n",
    "plt.show()"
   ]
  },
  {
   "cell_type": "code",
   "execution_count": 29,
   "metadata": {
    "id": "fOE7PvSuj6zB"
   },
   "outputs": [],
   "source": [
    "import pickle\n",
    "file =open('Bvrit_health_model.pkl','wb')\n",
    "pickle.dump(classifier_v,file)"
   ]
  },
  {
   "cell_type": "code",
   "execution_count": null,
   "metadata": {},
   "outputs": [],
   "source": []
  }
 ],
 "metadata": {
  "colab": {
   "collapsed_sections": [],
   "provenance": [],
   "toc_visible": true
  },
  "kernelspec": {
   "display_name": "Python 3 (ipykernel)",
   "language": "python",
   "name": "python3"
  },
  "language_info": {
   "codemirror_mode": {
    "name": "ipython",
    "version": 3
   },
   "file_extension": ".py",
   "mimetype": "text/x-python",
   "name": "python",
   "nbconvert_exporter": "python",
   "pygments_lexer": "ipython3",
   "version": "3.10.2"
  }
 },
 "nbformat": 4,
 "nbformat_minor": 1
}
